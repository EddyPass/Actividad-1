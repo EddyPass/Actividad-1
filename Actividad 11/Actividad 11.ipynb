{
 "cells": [
  {
   "cell_type": "code",
   "execution_count": 1,
   "metadata": {},
   "outputs": [],
   "source": [
    "import numpy as np\n",
    "import matplotlib.pyplot as plt\n",
    "from scipy.integrate import ode\n",
    "from math import cos"
   ]
  },
  {
   "cell_type": "code",
   "execution_count": 2,
   "metadata": {},
   "outputs": [],
   "source": [
    "def fun(t, z, omega):\n",
    "    \"\"\"\n",
    "    Right hand side of the differential equations\n",
    "      dx/dt = -omega * y\n",
    "      dy/dt = omega * x\n",
    "    \"\"\"\n",
    "    δ, α, β, γ, ω = omega                          \n",
    "    x, y = z\n",
    "    f = [y, - δ*y - α*x - β*x**3 + γ*cos(ω*t)]\n",
    "    return f"
   ]
  },
  {
   "cell_type": "code",
   "execution_count": 3,
   "metadata": {},
   "outputs": [
    {
     "data": {
      "text/plain": [
       "<scipy.integrate._ode.ode at 0x23c33380f98>"
      ]
     },
     "execution_count": 3,
     "metadata": {},
     "output_type": "execute_result"
    }
   ],
   "source": [
    "# Create an `ode` instance to solve the system of differential\n",
    "# equations defined by `fun`, and set the solver method to 'dop853'.\n",
    "solver = ode(fun)\n",
    "solver.set_integrator('dopri5')"
   ]
  },
  {
   "cell_type": "code",
   "execution_count": 4,
   "metadata": {},
   "outputs": [],
   "source": [
    "# Give the value of omega to the solver. This is passed to\n",
    "# `fun` when the solver calls it.\n",
    "#omega = 2 * np.pi\n",
    "#solver.set_f_params(omega)"
   ]
  },
  {
   "cell_type": "code",
   "execution_count": null,
   "metadata": {},
   "outputs": [],
   "source": [
    "γ = 0.65\n",
    "α = -1.0        \n",
    "δ = 0.3\n",
    "β = 1.0\n",
    "ω = 1.2\n",
    "\n",
    "t1 = 50\n",
    "N = 7000\n",
    "\n",
    "R=[0] * N\n",
    "w=[0] * N\n",
    "for i in range(0,N):\n",
    "    aux = δ, α, β, γ, ω                      \n",
    "    solver.set_f_params(aux)\n",
    "    \n",
    "    # Set the initial value z(0) = z0.\n",
    "    t0 = 0.0\n",
    "    z0 = [1, 0]\n",
    "    solver.set_initial_value(z0, t0)\n",
    "    \n",
    "    # Create the array `t` of time values at which to compute\n",
    "    # the solution, and create an array to hold the solution.\n",
    "    # Put the initial value in the solution array.\n",
    "    t = np.linspace(t0, t1, N)\n",
    "    sol = np.empty((N, 2))\n",
    "    sol[0] = z0\n",
    "\n",
    "    # Repeatedly call the `integrate` method to advance the\n",
    "    # solution to time t[k], and save the solution in sol[k].\n",
    "    k = 1\n",
    "    while solver.successful() and solver.t < t1:\n",
    "        solver.integrate(t[k])\n",
    "        sol[k] = solver.y\n",
    "        k += 1\n",
    "    \n",
    "    w[i]=ω"
   ]
  },
  {
   "cell_type": "code",
   "execution_count": null,
   "metadata": {},
   "outputs": [],
   "source": [
    "T=[0] * N\n",
    "for i in range (0,N):\n",
    "    k = (t[i]) * (w[i]) / (2* np.pi)\n",
    "    \n",
    "    T[i]=k"
   ]
  },
  {
   "cell_type": "code",
   "execution_count": null,
   "metadata": {},
   "outputs": [],
   "source": [
    "# Plot the solution...\n",
    "plt.plot(T, sol[:,0], label=\"x\", color=\"Purple\")\n",
    "plt.title(\"γ = 0.65\")\n",
    "plt.xlabel('x')\n",
    "plt.ylabel('t/T')\n",
    "plt.grid(True)\n",
    "plt.legend()\n",
    "plt.show()"
   ]
  },
  {
   "cell_type": "code",
   "execution_count": null,
   "metadata": {},
   "outputs": [],
   "source": [
    "# Plot the solution...\n",
    "plt.plot(sol[:,0], sol[:,1], label=\"x\", color=\"Purple\")\n",
    "plt.title(\"γ = 0.65\")\n",
    "plt.xlabel('dx/dt')\n",
    "plt.ylabel('x')\n",
    "plt.grid(True)\n",
    "plt.legend()\n",
    "plt.show()"
   ]
  },
  {
   "cell_type": "code",
   "execution_count": null,
   "metadata": {},
   "outputs": [],
   "source": []
  },
  {
   "cell_type": "code",
   "execution_count": null,
   "metadata": {},
   "outputs": [],
   "source": []
  },
  {
   "cell_type": "code",
   "execution_count": null,
   "metadata": {},
   "outputs": [],
   "source": []
  }
 ],
 "metadata": {
  "kernelspec": {
   "display_name": "Python 3",
   "language": "python",
   "name": "python3"
  },
  "language_info": {
   "codemirror_mode": {
    "name": "ipython",
    "version": 3
   },
   "file_extension": ".py",
   "mimetype": "text/x-python",
   "name": "python",
   "nbconvert_exporter": "python",
   "pygments_lexer": "ipython3",
   "version": "3.7.1"
  }
 },
 "nbformat": 4,
 "nbformat_minor": 2
}

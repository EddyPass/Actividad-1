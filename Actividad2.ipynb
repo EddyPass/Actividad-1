{
 "cells": [
  {
   "cell_type": "code",
   "execution_count": 1,
   "metadata": {},
   "outputs": [],
   "source": [
    "# Cargar a la memoria de trabajo las bibliotecas: Pandas (manejo de datos, \n",
    "# Numpy (numerical python) y la biblioteca de gráficas Matplotlib\n",
    "# Se asignan nombres cortos.\n",
    "import pandas as pd\n",
    "import numpy as np\n",
    "import matplotlib.pyplot as plt\n",
    "#\n",
    "# Usar \"Shift+Enter\" para procesar la información de la celda"
   ]
  },
  {
   "cell_type": "code",
   "execution_count": 2,
   "metadata": {},
   "outputs": [],
   "source": [
    "# Descarga los datos de una estación del Servicio Meteorológico Nacional\n",
    "# http://smn1.conagua.gob.mx/emas/\n",
    "# Lee un archivo de texto con la función Pandas \"read_csv\", con elementos separados por mas de \n",
    "# un espacio, brincándose 4 renglones del inicio (encabezados)\n",
    "df0 = pd.read_csv('Acayucan.txt', skiprows=4, sep='\\s+')\n",
    "# \"Shift + Enter\""
   ]
  },
  {
   "cell_type": "code",
   "execution_count": 3,
   "metadata": {},
   "outputs": [
    {
     "data": {
      "text/html": [
       "<div>\n",
       "<style scoped>\n",
       "    .dataframe tbody tr th:only-of-type {\n",
       "        vertical-align: middle;\n",
       "    }\n",
       "\n",
       "    .dataframe tbody tr th {\n",
       "        vertical-align: top;\n",
       "    }\n",
       "\n",
       "    .dataframe thead th {\n",
       "        text-align: right;\n",
       "    }\n",
       "</style>\n",
       "<table border=\"1\" class=\"dataframe\">\n",
       "  <thead>\n",
       "    <tr style=\"text-align: right;\">\n",
       "      <th></th>\n",
       "      <th>DD/MM/AAAA</th>\n",
       "      <th>HH:MM</th>\n",
       "      <th>DIRS</th>\n",
       "      <th>DIRR</th>\n",
       "      <th>RAPVIENTO2</th>\n",
       "      <th>RAPRAFAGA2</th>\n",
       "      <th>TEMP</th>\n",
       "      <th>HR</th>\n",
       "      <th>PB</th>\n",
       "      <th>PREC</th>\n",
       "      <th>RADSOL</th>\n",
       "    </tr>\n",
       "  </thead>\n",
       "  <tbody>\n",
       "    <tr>\n",
       "      <th>0</th>\n",
       "      <td>29/01/2019</td>\n",
       "      <td>00:00</td>\n",
       "      <td>280</td>\n",
       "      <td>310</td>\n",
       "      <td>9.43</td>\n",
       "      <td>22.9</td>\n",
       "      <td>22.2</td>\n",
       "      <td>81</td>\n",
       "      <td>998.2</td>\n",
       "      <td>0.0</td>\n",
       "      <td>4.7</td>\n",
       "    </tr>\n",
       "    <tr>\n",
       "      <th>1</th>\n",
       "      <td>29/01/2019</td>\n",
       "      <td>01:00</td>\n",
       "      <td>270</td>\n",
       "      <td>288</td>\n",
       "      <td>4.39</td>\n",
       "      <td>18.2</td>\n",
       "      <td>20.1</td>\n",
       "      <td>90</td>\n",
       "      <td>998.9</td>\n",
       "      <td>0.0</td>\n",
       "      <td>0.0</td>\n",
       "    </tr>\n",
       "    <tr>\n",
       "      <th>2</th>\n",
       "      <td>29/01/2019</td>\n",
       "      <td>02:00</td>\n",
       "      <td>261</td>\n",
       "      <td>278</td>\n",
       "      <td>5.70</td>\n",
       "      <td>21.0</td>\n",
       "      <td>18.7</td>\n",
       "      <td>95</td>\n",
       "      <td>999.6</td>\n",
       "      <td>0.0</td>\n",
       "      <td>0.0</td>\n",
       "    </tr>\n",
       "    <tr>\n",
       "      <th>3</th>\n",
       "      <td>29/01/2019</td>\n",
       "      <td>03:00</td>\n",
       "      <td>256</td>\n",
       "      <td>273</td>\n",
       "      <td>5.32</td>\n",
       "      <td>13.0</td>\n",
       "      <td>18.2</td>\n",
       "      <td>95</td>\n",
       "      <td>1000.0</td>\n",
       "      <td>0.0</td>\n",
       "      <td>0.0</td>\n",
       "    </tr>\n",
       "    <tr>\n",
       "      <th>4</th>\n",
       "      <td>29/01/2019</td>\n",
       "      <td>04:00</td>\n",
       "      <td>258</td>\n",
       "      <td>271</td>\n",
       "      <td>3.71</td>\n",
       "      <td>8.2</td>\n",
       "      <td>17.3</td>\n",
       "      <td>97</td>\n",
       "      <td>1000.3</td>\n",
       "      <td>0.0</td>\n",
       "      <td>0.0</td>\n",
       "    </tr>\n",
       "  </tbody>\n",
       "</table>\n",
       "</div>"
      ],
      "text/plain": [
       "   DD/MM/AAAA  HH:MM  DIRS  DIRR  RAPVIENTO2  RAPRAFAGA2  TEMP  HR      PB  \\\n",
       "0  29/01/2019  00:00   280   310        9.43        22.9  22.2  81   998.2   \n",
       "1  29/01/2019  01:00   270   288        4.39        18.2  20.1  90   998.9   \n",
       "2  29/01/2019  02:00   261   278        5.70        21.0  18.7  95   999.6   \n",
       "3  29/01/2019  03:00   256   273        5.32        13.0  18.2  95  1000.0   \n",
       "4  29/01/2019  04:00   258   271        3.71         8.2  17.3  97  1000.3   \n",
       "\n",
       "   PREC  RADSOL  \n",
       "0   0.0     4.7  \n",
       "1   0.0     0.0  \n",
       "2   0.0     0.0  \n",
       "3   0.0     0.0  \n",
       "4   0.0     0.0  "
      ]
     },
     "execution_count": 3,
     "metadata": {},
     "output_type": "execute_result"
    }
   ],
   "source": [
    "# Lee los primeros 5 renglones del archivo\n",
    "df0.head()\n",
    "# \"Shift+Enter\""
   ]
  },
  {
   "cell_type": "code",
   "execution_count": 4,
   "metadata": {},
   "outputs": [],
   "source": [
    "# Dar estructura de datos (DataFrame)\n",
    "df = pd.DataFrame(df0)"
   ]
  },
  {
   "cell_type": "code",
   "execution_count": 5,
   "metadata": {},
   "outputs": [
    {
     "data": {
      "text/plain": [
       "DD/MM/AAAA     object\n",
       "HH:MM          object\n",
       "DIRS            int64\n",
       "DIRR            int64\n",
       "RAPVIENTO2    float64\n",
       "RAPRAFAGA2    float64\n",
       "TEMP          float64\n",
       "HR              int64\n",
       "PB            float64\n",
       "PREC          float64\n",
       "RADSOL        float64\n",
       "dtype: object"
      ]
     },
     "execution_count": 5,
     "metadata": {},
     "output_type": "execute_result"
    }
   ],
   "source": [
    "# Ver los tipos de datos que Pandas ha reconocido al leer\n",
    "df.dtypes"
   ]
  },
  {
   "cell_type": "code",
   "execution_count": 6,
   "metadata": {},
   "outputs": [],
   "source": [
    "# Combinar las columnas \"DD/MM/AAAA\" con \"HH:MM\" y convertirla a variable de tiempo\n",
    "# Se crea una nueva columna \"Fecha\" al final con formato de tiempo.\n",
    "# Eliminamos las dos primeras columnas que ya no necesitaremos\n",
    "df['FECHA'] = pd.to_datetime(df.apply(lambda x: x['DD/MM/AAAA'] + ' ' + x['HH:MM'], 1), dayfirst=True)\n",
    "df = df.drop(['DD/MM/AAAA', 'HH:MM'], 1)"
   ]
  },
  {
   "cell_type": "code",
   "execution_count": 7,
   "metadata": {},
   "outputs": [
    {
     "data": {
      "text/html": [
       "<div>\n",
       "<style scoped>\n",
       "    .dataframe tbody tr th:only-of-type {\n",
       "        vertical-align: middle;\n",
       "    }\n",
       "\n",
       "    .dataframe tbody tr th {\n",
       "        vertical-align: top;\n",
       "    }\n",
       "\n",
       "    .dataframe thead th {\n",
       "        text-align: right;\n",
       "    }\n",
       "</style>\n",
       "<table border=\"1\" class=\"dataframe\">\n",
       "  <thead>\n",
       "    <tr style=\"text-align: right;\">\n",
       "      <th></th>\n",
       "      <th>DIRS</th>\n",
       "      <th>DIRR</th>\n",
       "      <th>RAPVIENTO2</th>\n",
       "      <th>RAPRAFAGA2</th>\n",
       "      <th>TEMP</th>\n",
       "      <th>HR</th>\n",
       "      <th>PB</th>\n",
       "      <th>PREC</th>\n",
       "      <th>RADSOL</th>\n",
       "      <th>FECHA</th>\n",
       "    </tr>\n",
       "  </thead>\n",
       "  <tbody>\n",
       "    <tr>\n",
       "      <th>0</th>\n",
       "      <td>280</td>\n",
       "      <td>310</td>\n",
       "      <td>9.43</td>\n",
       "      <td>22.9</td>\n",
       "      <td>22.2</td>\n",
       "      <td>81</td>\n",
       "      <td>998.2</td>\n",
       "      <td>0.0</td>\n",
       "      <td>4.7</td>\n",
       "      <td>2019-01-29 00:00:00</td>\n",
       "    </tr>\n",
       "    <tr>\n",
       "      <th>1</th>\n",
       "      <td>270</td>\n",
       "      <td>288</td>\n",
       "      <td>4.39</td>\n",
       "      <td>18.2</td>\n",
       "      <td>20.1</td>\n",
       "      <td>90</td>\n",
       "      <td>998.9</td>\n",
       "      <td>0.0</td>\n",
       "      <td>0.0</td>\n",
       "      <td>2019-01-29 01:00:00</td>\n",
       "    </tr>\n",
       "    <tr>\n",
       "      <th>2</th>\n",
       "      <td>261</td>\n",
       "      <td>278</td>\n",
       "      <td>5.70</td>\n",
       "      <td>21.0</td>\n",
       "      <td>18.7</td>\n",
       "      <td>95</td>\n",
       "      <td>999.6</td>\n",
       "      <td>0.0</td>\n",
       "      <td>0.0</td>\n",
       "      <td>2019-01-29 02:00:00</td>\n",
       "    </tr>\n",
       "    <tr>\n",
       "      <th>3</th>\n",
       "      <td>256</td>\n",
       "      <td>273</td>\n",
       "      <td>5.32</td>\n",
       "      <td>13.0</td>\n",
       "      <td>18.2</td>\n",
       "      <td>95</td>\n",
       "      <td>1000.0</td>\n",
       "      <td>0.0</td>\n",
       "      <td>0.0</td>\n",
       "      <td>2019-01-29 03:00:00</td>\n",
       "    </tr>\n",
       "    <tr>\n",
       "      <th>4</th>\n",
       "      <td>258</td>\n",
       "      <td>271</td>\n",
       "      <td>3.71</td>\n",
       "      <td>8.2</td>\n",
       "      <td>17.3</td>\n",
       "      <td>97</td>\n",
       "      <td>1000.3</td>\n",
       "      <td>0.0</td>\n",
       "      <td>0.0</td>\n",
       "      <td>2019-01-29 04:00:00</td>\n",
       "    </tr>\n",
       "  </tbody>\n",
       "</table>\n",
       "</div>"
      ],
      "text/plain": [
       "   DIRS  DIRR  RAPVIENTO2  RAPRAFAGA2  TEMP  HR      PB  PREC  RADSOL  \\\n",
       "0   280   310        9.43        22.9  22.2  81   998.2   0.0     4.7   \n",
       "1   270   288        4.39        18.2  20.1  90   998.9   0.0     0.0   \n",
       "2   261   278        5.70        21.0  18.7  95   999.6   0.0     0.0   \n",
       "3   256   273        5.32        13.0  18.2  95  1000.0   0.0     0.0   \n",
       "4   258   271        3.71         8.2  17.3  97  1000.3   0.0     0.0   \n",
       "\n",
       "                FECHA  \n",
       "0 2019-01-29 00:00:00  \n",
       "1 2019-01-29 01:00:00  \n",
       "2 2019-01-29 02:00:00  \n",
       "3 2019-01-29 03:00:00  \n",
       "4 2019-01-29 04:00:00  "
      ]
     },
     "execution_count": 7,
     "metadata": {},
     "output_type": "execute_result"
    }
   ],
   "source": [
    "df.head()"
   ]
  },
  {
   "cell_type": "code",
   "execution_count": 8,
   "metadata": {},
   "outputs": [
    {
     "data": {
      "text/html": [
       "<div>\n",
       "<style scoped>\n",
       "    .dataframe tbody tr th:only-of-type {\n",
       "        vertical-align: middle;\n",
       "    }\n",
       "\n",
       "    .dataframe tbody tr th {\n",
       "        vertical-align: top;\n",
       "    }\n",
       "\n",
       "    .dataframe thead th {\n",
       "        text-align: right;\n",
       "    }\n",
       "</style>\n",
       "<table border=\"1\" class=\"dataframe\">\n",
       "  <thead>\n",
       "    <tr style=\"text-align: right;\">\n",
       "      <th></th>\n",
       "      <th>DIRS</th>\n",
       "      <th>DIRR</th>\n",
       "      <th>RAPVIENTO2</th>\n",
       "      <th>RAPRAFAGA2</th>\n",
       "      <th>TEMP</th>\n",
       "      <th>HR</th>\n",
       "      <th>PB</th>\n",
       "      <th>PREC</th>\n",
       "      <th>RADSOL</th>\n",
       "    </tr>\n",
       "  </thead>\n",
       "  <tbody>\n",
       "    <tr>\n",
       "      <th>count</th>\n",
       "      <td>81.000000</td>\n",
       "      <td>81.000000</td>\n",
       "      <td>81.000000</td>\n",
       "      <td>81.000000</td>\n",
       "      <td>81.000000</td>\n",
       "      <td>81.000000</td>\n",
       "      <td>81.000000</td>\n",
       "      <td>81.000000</td>\n",
       "      <td>81.000000</td>\n",
       "    </tr>\n",
       "    <tr>\n",
       "      <th>mean</th>\n",
       "      <td>200.679012</td>\n",
       "      <td>213.938272</td>\n",
       "      <td>6.430494</td>\n",
       "      <td>19.062963</td>\n",
       "      <td>20.943210</td>\n",
       "      <td>91.629630</td>\n",
       "      <td>1002.809877</td>\n",
       "      <td>0.002469</td>\n",
       "      <td>107.895062</td>\n",
       "    </tr>\n",
       "    <tr>\n",
       "      <th>std</th>\n",
       "      <td>59.328709</td>\n",
       "      <td>61.500680</td>\n",
       "      <td>3.532508</td>\n",
       "      <td>7.375270</td>\n",
       "      <td>3.267566</td>\n",
       "      <td>10.867894</td>\n",
       "      <td>1.972537</td>\n",
       "      <td>0.015615</td>\n",
       "      <td>186.655756</td>\n",
       "    </tr>\n",
       "    <tr>\n",
       "      <th>min</th>\n",
       "      <td>48.000000</td>\n",
       "      <td>62.000000</td>\n",
       "      <td>1.060000</td>\n",
       "      <td>4.700000</td>\n",
       "      <td>15.300000</td>\n",
       "      <td>63.000000</td>\n",
       "      <td>998.200000</td>\n",
       "      <td>0.000000</td>\n",
       "      <td>0.000000</td>\n",
       "    </tr>\n",
       "    <tr>\n",
       "      <th>25%</th>\n",
       "      <td>154.000000</td>\n",
       "      <td>170.000000</td>\n",
       "      <td>3.800000</td>\n",
       "      <td>13.400000</td>\n",
       "      <td>18.900000</td>\n",
       "      <td>87.000000</td>\n",
       "      <td>1001.300000</td>\n",
       "      <td>0.000000</td>\n",
       "      <td>0.000000</td>\n",
       "    </tr>\n",
       "    <tr>\n",
       "      <th>50%</th>\n",
       "      <td>200.000000</td>\n",
       "      <td>221.000000</td>\n",
       "      <td>5.300000</td>\n",
       "      <td>18.500000</td>\n",
       "      <td>20.200000</td>\n",
       "      <td>97.000000</td>\n",
       "      <td>1003.100000</td>\n",
       "      <td>0.000000</td>\n",
       "      <td>0.000000</td>\n",
       "    </tr>\n",
       "    <tr>\n",
       "      <th>75%</th>\n",
       "      <td>243.000000</td>\n",
       "      <td>271.000000</td>\n",
       "      <td>8.990000</td>\n",
       "      <td>24.300000</td>\n",
       "      <td>22.800000</td>\n",
       "      <td>100.000000</td>\n",
       "      <td>1004.400000</td>\n",
       "      <td>0.000000</td>\n",
       "      <td>121.300000</td>\n",
       "    </tr>\n",
       "    <tr>\n",
       "      <th>max</th>\n",
       "      <td>291.000000</td>\n",
       "      <td>317.000000</td>\n",
       "      <td>15.560000</td>\n",
       "      <td>34.600000</td>\n",
       "      <td>29.000000</td>\n",
       "      <td>100.000000</td>\n",
       "      <td>1006.000000</td>\n",
       "      <td>0.100000</td>\n",
       "      <td>752.700000</td>\n",
       "    </tr>\n",
       "  </tbody>\n",
       "</table>\n",
       "</div>"
      ],
      "text/plain": [
       "             DIRS        DIRR  RAPVIENTO2  RAPRAFAGA2       TEMP          HR  \\\n",
       "count   81.000000   81.000000   81.000000   81.000000  81.000000   81.000000   \n",
       "mean   200.679012  213.938272    6.430494   19.062963  20.943210   91.629630   \n",
       "std     59.328709   61.500680    3.532508    7.375270   3.267566   10.867894   \n",
       "min     48.000000   62.000000    1.060000    4.700000  15.300000   63.000000   \n",
       "25%    154.000000  170.000000    3.800000   13.400000  18.900000   87.000000   \n",
       "50%    200.000000  221.000000    5.300000   18.500000  20.200000   97.000000   \n",
       "75%    243.000000  271.000000    8.990000   24.300000  22.800000  100.000000   \n",
       "max    291.000000  317.000000   15.560000   34.600000  29.000000  100.000000   \n",
       "\n",
       "                PB       PREC      RADSOL  \n",
       "count    81.000000  81.000000   81.000000  \n",
       "mean   1002.809877   0.002469  107.895062  \n",
       "std       1.972537   0.015615  186.655756  \n",
       "min     998.200000   0.000000    0.000000  \n",
       "25%    1001.300000   0.000000    0.000000  \n",
       "50%    1003.100000   0.000000    0.000000  \n",
       "75%    1004.400000   0.000000  121.300000  \n",
       "max    1006.000000   0.100000  752.700000  "
      ]
     },
     "execution_count": 8,
     "metadata": {},
     "output_type": "execute_result"
    }
   ],
   "source": [
    "# Realiza un análisis exploratorio de datos\n",
    "df.describe()"
   ]
  },
  {
   "cell_type": "code",
   "execution_count": 9,
   "metadata": {},
   "outputs": [
    {
     "data": {
      "text/html": [
       "<div>\n",
       "<style scoped>\n",
       "    .dataframe tbody tr th:only-of-type {\n",
       "        vertical-align: middle;\n",
       "    }\n",
       "\n",
       "    .dataframe tbody tr th {\n",
       "        vertical-align: top;\n",
       "    }\n",
       "\n",
       "    .dataframe thead th {\n",
       "        text-align: right;\n",
       "    }\n",
       "</style>\n",
       "<table border=\"1\" class=\"dataframe\">\n",
       "  <thead>\n",
       "    <tr style=\"text-align: right;\">\n",
       "      <th></th>\n",
       "      <th>DIRS</th>\n",
       "      <th>DIRR</th>\n",
       "      <th>RAPVIENTO2</th>\n",
       "      <th>RAPRAFAGA2</th>\n",
       "      <th>TEMP</th>\n",
       "      <th>HR</th>\n",
       "      <th>PB</th>\n",
       "      <th>PREC</th>\n",
       "      <th>RADSOL</th>\n",
       "      <th>FECHA</th>\n",
       "    </tr>\n",
       "  </thead>\n",
       "  <tbody>\n",
       "    <tr>\n",
       "      <th>20</th>\n",
       "      <td>136</td>\n",
       "      <td>155</td>\n",
       "      <td>13.30</td>\n",
       "      <td>29.3</td>\n",
       "      <td>24.1</td>\n",
       "      <td>83</td>\n",
       "      <td>1003.6</td>\n",
       "      <td>0.0</td>\n",
       "      <td>596.5</td>\n",
       "      <td>2019-01-29 20:00:00</td>\n",
       "    </tr>\n",
       "    <tr>\n",
       "      <th>21</th>\n",
       "      <td>139</td>\n",
       "      <td>154</td>\n",
       "      <td>15.56</td>\n",
       "      <td>34.2</td>\n",
       "      <td>24.5</td>\n",
       "      <td>82</td>\n",
       "      <td>1003.2</td>\n",
       "      <td>0.0</td>\n",
       "      <td>475.2</td>\n",
       "      <td>2019-01-29 21:00:00</td>\n",
       "    </tr>\n",
       "    <tr>\n",
       "      <th>44</th>\n",
       "      <td>146</td>\n",
       "      <td>146</td>\n",
       "      <td>6.35</td>\n",
       "      <td>18.0</td>\n",
       "      <td>24.9</td>\n",
       "      <td>73</td>\n",
       "      <td>1001.9</td>\n",
       "      <td>0.0</td>\n",
       "      <td>418.2</td>\n",
       "      <td>2019-01-30 20:00:00</td>\n",
       "    </tr>\n",
       "    <tr>\n",
       "      <th>47</th>\n",
       "      <td>276</td>\n",
       "      <td>281</td>\n",
       "      <td>7.28</td>\n",
       "      <td>21.5</td>\n",
       "      <td>24.3</td>\n",
       "      <td>79</td>\n",
       "      <td>1001.6</td>\n",
       "      <td>0.0</td>\n",
       "      <td>72.0</td>\n",
       "      <td>2019-01-30 23:00:00</td>\n",
       "    </tr>\n",
       "    <tr>\n",
       "      <th>64</th>\n",
       "      <td>137</td>\n",
       "      <td>135</td>\n",
       "      <td>4.28</td>\n",
       "      <td>17.4</td>\n",
       "      <td>24.8</td>\n",
       "      <td>79</td>\n",
       "      <td>1004.9</td>\n",
       "      <td>0.0</td>\n",
       "      <td>381.7</td>\n",
       "      <td>2019-01-31 16:00:00</td>\n",
       "    </tr>\n",
       "  </tbody>\n",
       "</table>\n",
       "</div>"
      ],
      "text/plain": [
       "    DIRS  DIRR  RAPVIENTO2  RAPRAFAGA2  TEMP  HR      PB  PREC  RADSOL  \\\n",
       "20   136   155       13.30        29.3  24.1  83  1003.6   0.0   596.5   \n",
       "21   139   154       15.56        34.2  24.5  82  1003.2   0.0   475.2   \n",
       "44   146   146        6.35        18.0  24.9  73  1001.9   0.0   418.2   \n",
       "47   276   281        7.28        21.5  24.3  79  1001.6   0.0    72.0   \n",
       "64   137   135        4.28        17.4  24.8  79  1004.9   0.0   381.7   \n",
       "\n",
       "                 FECHA  \n",
       "20 2019-01-29 20:00:00  \n",
       "21 2019-01-29 21:00:00  \n",
       "44 2019-01-30 20:00:00  \n",
       "47 2019-01-30 23:00:00  \n",
       "64 2019-01-31 16:00:00  "
      ]
     },
     "execution_count": 9,
     "metadata": {},
     "output_type": "execute_result"
    }
   ],
   "source": [
    "# Selecciona los renglones con Temperatura > 24ºC y < 25ºC\n",
    "df_tmp = df[df.TEMP > 24] \n",
    "df_select = df_tmp[df_tmp.TEMP < 25]\n",
    "df_select"
   ]
  },
  {
   "cell_type": "code",
   "execution_count": 10,
   "metadata": {},
   "outputs": [
    {
     "data": {
      "text/plain": [
       "DIRS           200.679012\n",
       "DIRR           213.938272\n",
       "RAPVIENTO2       6.430494\n",
       "RAPRAFAGA2      19.062963\n",
       "TEMP            20.943210\n",
       "HR              91.629630\n",
       "PB            1002.809877\n",
       "PREC             0.002469\n",
       "RADSOL         107.895062\n",
       "dtype: float64"
      ]
     },
     "execution_count": 10,
     "metadata": {},
     "output_type": "execute_result"
    }
   ],
   "source": [
    "# Calcula el promedio de las columnas, excepto en la FECHA (que no tendría sentido)\n",
    "df.mean()"
   ]
  },
  {
   "cell_type": "code",
   "execution_count": 11,
   "metadata": {},
   "outputs": [
    {
     "data": {
      "text/plain": [
       "20.943209876543218"
      ]
     },
     "execution_count": 11,
     "metadata": {},
     "output_type": "execute_result"
    }
   ],
   "source": [
    "# Calcula el promedio de las Temperaturas\n",
    "df.TEMP.mean()"
   ]
  },
  {
   "cell_type": "code",
   "execution_count": 12,
   "metadata": {
    "scrolled": true
   },
   "outputs": [
    {
     "data": {
      "image/png": "[encoded data removed]",
      "text/plain": [
       "<Figure size 432x288 with 1 Axes>"
      ]
     },
     "metadata": {
      "needs_background": "light"
     },
     "output_type": "display_data"
    }
   ],
   "source": [
    "# Gráfica de la rapidez de los vientos (m/s) \n",
    "plt.figure(); df.RAPVIENTO2.plot(); plt.legend(loc='best')\n",
    "plt.title(\"Variación de la Rapidez de los Vientos\")\n",
    "plt.ylabel(\"Rapidez (m/s)\")\n",
    "plt.grid(True)\n",
    "plt.show()"
   ]
  },
  {
   "cell_type": "code",
   "execution_count": 13,
   "metadata": {},
   "outputs": [
    {
     "data": {
      "text/plain": [
       "<Figure size 432x288 with 0 Axes>"
      ]
     },
     "metadata": {},
     "output_type": "display_data"
    },
    {
     "data": {
      "image/png": "[encoded data removed]",
      "text/plain": [
       "<Figure size 432x288 with 1 Axes>"
      ]
     },
     "metadata": {
      "needs_background": "light"
     },
     "output_type": "display_data"
    }
   ],
   "source": [
    "# Gráfica de Temperatura y Humedad Relativa\n",
    "df1 = df[['TEMP','HR']]\n",
    "plt.figure(); df1.plot(); plt.legend(loc='best')\n",
    "plt.title(\"Variación de la Temperatura y la Humedad Relativa\")\n",
    "plt.ylabel(\"Temp ºC /(%) HR\")\n",
    "plt.grid(True)\n",
    "plt.show()"
   ]
  },
  {
   "cell_type": "code",
   "execution_count": 14,
   "metadata": {},
   "outputs": [
    {
     "data": {
      "image/png": "[encoded data removed]",
      "text/plain": [
       "<Figure size 432x288 with 1 Axes>"
      ]
     },
     "metadata": {
      "needs_background": "light"
     },
     "output_type": "display_data"
    }
   ],
   "source": [
    "plt.plot_date(x=df.FECHA, y=df.TEMP, fmt=\"b-\")\n",
    "plt.title(\"Variación de la Temperatura\")\n",
    "plt.ylabel(\"Temp ºC\")\n",
    "plt.grid(True)\n",
    "plt.show()"
   ]
  },
  {
   "cell_type": "code",
   "execution_count": 15,
   "metadata": {},
   "outputs": [
    {
     "data": {
      "image/png": "[encoded data removed]",
      "text/plain": [
       "<Figure size 432x288 with 1 Axes>"
      ]
     },
     "metadata": {
      "needs_background": "light"
     },
     "output_type": "display_data"
    }
   ],
   "source": [
    "# Gráfica de la rapidez de los vientos (m/s) \n",
    "plt.figure(); df.RAPRAFAGA2.plot(); plt.legend(loc='best')\n",
    "plt.title(\"Variación de las Rapidez de las Ráfagas de los Vientos\")\n",
    "plt.ylabel(\"Rapidez (m/s)\")\n",
    "plt.grid(True)\n",
    "plt.show()"
   ]
  },
  {
   "cell_type": "code",
   "execution_count": 16,
   "metadata": {},
   "outputs": [
    {
     "data": {
      "image/png": "[encoded data removed]",
      "text/plain": [
       "<Figure size 432x288 with 1 Axes>"
      ]
     },
     "metadata": {
      "needs_background": "light"
     },
     "output_type": "display_data"
    }
   ],
   "source": [
    "# Gráfica de la rapidez de los vientos (m/s) \n",
    "plt.figure(); df.RADSOL.plot(); plt.legend(loc='best')\n",
    "plt.title(\"Variación de la Radiación Solar\")\n",
    "plt.grid(True)\n",
    "plt.show()"
   ]
  },
  {
   "cell_type": "code",
   "execution_count": null,
   "metadata": {},
   "outputs": [],
   "source": []
  },
  {
   "cell_type": "code",
   "execution_count": null,
   "metadata": {},
   "outputs": [],
   "source": []
  },
  {
   "cell_type": "code",
   "execution_count": null,
   "metadata": {},
   "outputs": [],
   "source": []
  },
  {
   "cell_type": "code",
   "execution_count": null,
   "metadata": {},
   "outputs": [],
   "source": []
  },
  {
   "cell_type": "code",
   "execution_count": null,
   "metadata": {},
   "outputs": [],
   "source": []
  }
 ],
 "metadata": {
  "kernelspec": {
   "display_name": "Python 3",
   "language": "python",
   "name": "python3"
  },
  "language_info": {
   "codemirror_mode": {
    "name": "ipython",
    "version": 3
   },
   "file_extension": ".py",
   "mimetype": "text/x-python",
   "name": "python",
   "nbconvert_exporter": "python",
   "pygments_lexer": "ipython3",
   "version": "3.7.1"
  }
 },
 "nbformat": 4,
 "nbformat_minor": 2
}

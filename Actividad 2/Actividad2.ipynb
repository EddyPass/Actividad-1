{
 "cells": [
  {
   "cell_type": "code",
   "execution_count": 1,
   "metadata": {},
   "outputs": [],
   "source": [
    "# Cargar a la memoria de trabajo las bibliotecas: Pandas (manejo de datos, \n",
    "# Numpy (numerical python) y la biblioteca de gráficas Matplotlib\n",
    "# Se asignan nombres cortos.\n",
    "import pandas as pd\n",
    "import numpy as np\n",
    "import matplotlib.pyplot as plt\n",
    "#\n",
    "# Usar \"Shift+Enter\" para procesar la información de la celda"
   ]
  },
  {
   "cell_type": "code",
   "execution_count": 2,
   "metadata": {},
   "outputs": [],
   "source": [
    "# Descarga los datos de una estación del Servicio Meteorológico Nacional\n",
    "# http://smn1.conagua.gob.mx/emas/\n",
    "# Lee un archivo de texto con la función Pandas \"read_csv\", con elementos separados por mas de \n",
    "# un espacio, brincándose 4 renglones del inicio (encabezados)\n",
    "df0 = pd.read_csv('Diente.txt', skiprows=4, sep='\\s+')\n",
    "# \"Shift + Enter\""
   ]
  },
  {
   "cell_type": "code",
   "execution_count": 3,
   "metadata": {},
   "outputs": [
    {
     "data": {
      "text/html": [
       "<div>\n",
       "<style scoped>\n",
       "    .dataframe tbody tr th:only-of-type {\n",
       "        vertical-align: middle;\n",
       "    }\n",
       "\n",
       "    .dataframe tbody tr th {\n",
       "        vertical-align: top;\n",
       "    }\n",
       "\n",
       "    .dataframe thead th {\n",
       "        text-align: right;\n",
       "    }\n",
       "</style>\n",
       "<table border=\"1\" class=\"dataframe\">\n",
       "  <thead>\n",
       "    <tr style=\"text-align: right;\">\n",
       "      <th></th>\n",
       "      <th>DD/MM/AAAA</th>\n",
       "      <th>HH:MM</th>\n",
       "      <th>DIRS</th>\n",
       "      <th>DIRR</th>\n",
       "      <th>RAPVIENTO2</th>\n",
       "      <th>RAPRAFAGA2</th>\n",
       "      <th>TEMP</th>\n",
       "      <th>HR</th>\n",
       "      <th>PB</th>\n",
       "      <th>PREC</th>\n",
       "      <th>RADSOL</th>\n",
       "      <th>TEMPCOMB</th>\n",
       "      <th>HUMCOMB</th>\n",
       "      <th>HUMSUBS</th>\n",
       "      <th>TEMPSUBS</th>\n",
       "    </tr>\n",
       "  </thead>\n",
       "  <tbody>\n",
       "    <tr>\n",
       "      <th>0</th>\n",
       "      <td>29/01/2019</td>\n",
       "      <td>01:00</td>\n",
       "      <td>291</td>\n",
       "      <td>312</td>\n",
       "      <td>3.33</td>\n",
       "      <td>9.4</td>\n",
       "      <td>11.9</td>\n",
       "      <td>90</td>\n",
       "      <td>926.7</td>\n",
       "      <td>0.0</td>\n",
       "      <td>0.0</td>\n",
       "      <td>10.4</td>\n",
       "      <td>54</td>\n",
       "      <td>27</td>\n",
       "      <td>15.7</td>\n",
       "    </tr>\n",
       "    <tr>\n",
       "      <th>1</th>\n",
       "      <td>29/01/2019</td>\n",
       "      <td>02:00</td>\n",
       "      <td>303</td>\n",
       "      <td>309</td>\n",
       "      <td>3.99</td>\n",
       "      <td>9.7</td>\n",
       "      <td>11.5</td>\n",
       "      <td>90</td>\n",
       "      <td>927.8</td>\n",
       "      <td>0.0</td>\n",
       "      <td>0.0</td>\n",
       "      <td>9.9</td>\n",
       "      <td>62</td>\n",
       "      <td>27</td>\n",
       "      <td>15.7</td>\n",
       "    </tr>\n",
       "    <tr>\n",
       "      <th>2</th>\n",
       "      <td>29/01/2019</td>\n",
       "      <td>03:00</td>\n",
       "      <td>295</td>\n",
       "      <td>307</td>\n",
       "      <td>3.78</td>\n",
       "      <td>10.4</td>\n",
       "      <td>11.2</td>\n",
       "      <td>99</td>\n",
       "      <td>929.3</td>\n",
       "      <td>0.0</td>\n",
       "      <td>0.0</td>\n",
       "      <td>9.6</td>\n",
       "      <td>68</td>\n",
       "      <td>27</td>\n",
       "      <td>15.7</td>\n",
       "    </tr>\n",
       "    <tr>\n",
       "      <th>3</th>\n",
       "      <td>29/01/2019</td>\n",
       "      <td>04:00</td>\n",
       "      <td>253</td>\n",
       "      <td>150</td>\n",
       "      <td>3.15</td>\n",
       "      <td>13.0</td>\n",
       "      <td>11.4</td>\n",
       "      <td>99</td>\n",
       "      <td>931.0</td>\n",
       "      <td>0.0</td>\n",
       "      <td>0.0</td>\n",
       "      <td>9.6</td>\n",
       "      <td>73</td>\n",
       "      <td>27</td>\n",
       "      <td>15.7</td>\n",
       "    </tr>\n",
       "    <tr>\n",
       "      <th>4</th>\n",
       "      <td>29/01/2019</td>\n",
       "      <td>05:00</td>\n",
       "      <td>293</td>\n",
       "      <td>314</td>\n",
       "      <td>2.82</td>\n",
       "      <td>11.2</td>\n",
       "      <td>11.2</td>\n",
       "      <td>88</td>\n",
       "      <td>932.5</td>\n",
       "      <td>0.0</td>\n",
       "      <td>0.0</td>\n",
       "      <td>8.8</td>\n",
       "      <td>77</td>\n",
       "      <td>27</td>\n",
       "      <td>15.7</td>\n",
       "    </tr>\n",
       "  </tbody>\n",
       "</table>\n",
       "</div>"
      ],
      "text/plain": [
       "   DD/MM/AAAA  HH:MM  DIRS  DIRR  RAPVIENTO2  RAPRAFAGA2  TEMP  HR     PB  \\\n",
       "0  29/01/2019  01:00   291   312        3.33         9.4  11.9  90  926.7   \n",
       "1  29/01/2019  02:00   303   309        3.99         9.7  11.5  90  927.8   \n",
       "2  29/01/2019  03:00   295   307        3.78        10.4  11.2  99  929.3   \n",
       "3  29/01/2019  04:00   253   150        3.15        13.0  11.4  99  931.0   \n",
       "4  29/01/2019  05:00   293   314        2.82        11.2  11.2  88  932.5   \n",
       "\n",
       "   PREC  RADSOL  TEMPCOMB  HUMCOMB  HUMSUBS  TEMPSUBS  \n",
       "0   0.0     0.0      10.4       54       27      15.7  \n",
       "1   0.0     0.0       9.9       62       27      15.7  \n",
       "2   0.0     0.0       9.6       68       27      15.7  \n",
       "3   0.0     0.0       9.6       73       27      15.7  \n",
       "4   0.0     0.0       8.8       77       27      15.7  "
      ]
     },
     "execution_count": 3,
     "metadata": {},
     "output_type": "execute_result"
    }
   ],
   "source": [
    "# Lee los primeros 5 renglones del archivo\n",
    "df0.head()\n",
    "# \"Shift+Enter\""
   ]
  },
  {
   "cell_type": "code",
   "execution_count": 4,
   "metadata": {},
   "outputs": [],
   "source": [
    "# Dar estructura de datos (DataFrame)\n",
    "df = pd.DataFrame(df0)"
   ]
  },
  {
   "cell_type": "code",
   "execution_count": 5,
   "metadata": {},
   "outputs": [
    {
     "data": {
      "text/plain": [
       "DD/MM/AAAA     object\n",
       "HH:MM          object\n",
       "DIRS            int64\n",
       "DIRR            int64\n",
       "RAPVIENTO2    float64\n",
       "RAPRAFAGA2    float64\n",
       "TEMP          float64\n",
       "HR              int64\n",
       "PB            float64\n",
       "PREC          float64\n",
       "RADSOL        float64\n",
       "TEMPCOMB      float64\n",
       "HUMCOMB         int64\n",
       "HUMSUBS         int64\n",
       "TEMPSUBS      float64\n",
       "dtype: object"
      ]
     },
     "execution_count": 5,
     "metadata": {},
     "output_type": "execute_result"
    }
   ],
   "source": [
    "# Ver los tipos de datos que Pandas ha reconocido al leer\n",
    "df.dtypes"
   ]
  },
  {
   "cell_type": "code",
   "execution_count": 6,
   "metadata": {},
   "outputs": [],
   "source": [
    "# Combinar las columnas \"DD/MM/AAAA\" con \"HH:MM\" y convertirla a variable de tiempo\n",
    "# Se crea una nueva columna \"Fecha\" al final con formato de tiempo.\n",
    "# Eliminamos las dos primeras columnas que ya no necesitaremos\n",
    "df['FECHA'] = pd.to_datetime(df.apply(lambda x: x['DD/MM/AAAA'] + ' ' + x['HH:MM'], 1), dayfirst=True)\n",
    "df = df.drop(['DD/MM/AAAA', 'HH:MM'], 1)"
   ]
  },
  {
   "cell_type": "code",
   "execution_count": 7,
   "metadata": {},
   "outputs": [
    {
     "data": {
      "text/html": [
       "<div>\n",
       "<style scoped>\n",
       "    .dataframe tbody tr th:only-of-type {\n",
       "        vertical-align: middle;\n",
       "    }\n",
       "\n",
       "    .dataframe tbody tr th {\n",
       "        vertical-align: top;\n",
       "    }\n",
       "\n",
       "    .dataframe thead th {\n",
       "        text-align: right;\n",
       "    }\n",
       "</style>\n",
       "<table border=\"1\" class=\"dataframe\">\n",
       "  <thead>\n",
       "    <tr style=\"text-align: right;\">\n",
       "      <th></th>\n",
       "      <th>DIRS</th>\n",
       "      <th>DIRR</th>\n",
       "      <th>RAPVIENTO2</th>\n",
       "      <th>RAPRAFAGA2</th>\n",
       "      <th>TEMP</th>\n",
       "      <th>HR</th>\n",
       "      <th>PB</th>\n",
       "      <th>PREC</th>\n",
       "      <th>RADSOL</th>\n",
       "      <th>TEMPCOMB</th>\n",
       "      <th>HUMCOMB</th>\n",
       "      <th>HUMSUBS</th>\n",
       "      <th>TEMPSUBS</th>\n",
       "      <th>FECHA</th>\n",
       "    </tr>\n",
       "  </thead>\n",
       "  <tbody>\n",
       "    <tr>\n",
       "      <th>0</th>\n",
       "      <td>291</td>\n",
       "      <td>312</td>\n",
       "      <td>3.33</td>\n",
       "      <td>9.4</td>\n",
       "      <td>11.9</td>\n",
       "      <td>90</td>\n",
       "      <td>926.7</td>\n",
       "      <td>0.0</td>\n",
       "      <td>0.0</td>\n",
       "      <td>10.4</td>\n",
       "      <td>54</td>\n",
       "      <td>27</td>\n",
       "      <td>15.7</td>\n",
       "      <td>2019-01-29 01:00:00</td>\n",
       "    </tr>\n",
       "    <tr>\n",
       "      <th>1</th>\n",
       "      <td>303</td>\n",
       "      <td>309</td>\n",
       "      <td>3.99</td>\n",
       "      <td>9.7</td>\n",
       "      <td>11.5</td>\n",
       "      <td>90</td>\n",
       "      <td>927.8</td>\n",
       "      <td>0.0</td>\n",
       "      <td>0.0</td>\n",
       "      <td>9.9</td>\n",
       "      <td>62</td>\n",
       "      <td>27</td>\n",
       "      <td>15.7</td>\n",
       "      <td>2019-01-29 02:00:00</td>\n",
       "    </tr>\n",
       "    <tr>\n",
       "      <th>2</th>\n",
       "      <td>295</td>\n",
       "      <td>307</td>\n",
       "      <td>3.78</td>\n",
       "      <td>10.4</td>\n",
       "      <td>11.2</td>\n",
       "      <td>99</td>\n",
       "      <td>929.3</td>\n",
       "      <td>0.0</td>\n",
       "      <td>0.0</td>\n",
       "      <td>9.6</td>\n",
       "      <td>68</td>\n",
       "      <td>27</td>\n",
       "      <td>15.7</td>\n",
       "      <td>2019-01-29 03:00:00</td>\n",
       "    </tr>\n",
       "    <tr>\n",
       "      <th>3</th>\n",
       "      <td>253</td>\n",
       "      <td>150</td>\n",
       "      <td>3.15</td>\n",
       "      <td>13.0</td>\n",
       "      <td>11.4</td>\n",
       "      <td>99</td>\n",
       "      <td>931.0</td>\n",
       "      <td>0.0</td>\n",
       "      <td>0.0</td>\n",
       "      <td>9.6</td>\n",
       "      <td>73</td>\n",
       "      <td>27</td>\n",
       "      <td>15.7</td>\n",
       "      <td>2019-01-29 04:00:00</td>\n",
       "    </tr>\n",
       "    <tr>\n",
       "      <th>4</th>\n",
       "      <td>293</td>\n",
       "      <td>314</td>\n",
       "      <td>2.82</td>\n",
       "      <td>11.2</td>\n",
       "      <td>11.2</td>\n",
       "      <td>88</td>\n",
       "      <td>932.5</td>\n",
       "      <td>0.0</td>\n",
       "      <td>0.0</td>\n",
       "      <td>8.8</td>\n",
       "      <td>77</td>\n",
       "      <td>27</td>\n",
       "      <td>15.7</td>\n",
       "      <td>2019-01-29 05:00:00</td>\n",
       "    </tr>\n",
       "  </tbody>\n",
       "</table>\n",
       "</div>"
      ],
      "text/plain": [
       "   DIRS  DIRR  RAPVIENTO2  RAPRAFAGA2  TEMP  HR     PB  PREC  RADSOL  \\\n",
       "0   291   312        3.33         9.4  11.9  90  926.7   0.0     0.0   \n",
       "1   303   309        3.99         9.7  11.5  90  927.8   0.0     0.0   \n",
       "2   295   307        3.78        10.4  11.2  99  929.3   0.0     0.0   \n",
       "3   253   150        3.15        13.0  11.4  99  931.0   0.0     0.0   \n",
       "4   293   314        2.82        11.2  11.2  88  932.5   0.0     0.0   \n",
       "\n",
       "   TEMPCOMB  HUMCOMB  HUMSUBS  TEMPSUBS               FECHA  \n",
       "0      10.4       54       27      15.7 2019-01-29 01:00:00  \n",
       "1       9.9       62       27      15.7 2019-01-29 02:00:00  \n",
       "2       9.6       68       27      15.7 2019-01-29 03:00:00  \n",
       "3       9.6       73       27      15.7 2019-01-29 04:00:00  \n",
       "4       8.8       77       27      15.7 2019-01-29 05:00:00  "
      ]
     },
     "execution_count": 7,
     "metadata": {},
     "output_type": "execute_result"
    }
   ],
   "source": [
    "df.head()"
   ]
  },
  {
   "cell_type": "code",
   "execution_count": 8,
   "metadata": {},
   "outputs": [
    {
     "data": {
      "text/html": [
       "<div>\n",
       "<style scoped>\n",
       "    .dataframe tbody tr th:only-of-type {\n",
       "        vertical-align: middle;\n",
       "    }\n",
       "\n",
       "    .dataframe tbody tr th {\n",
       "        vertical-align: top;\n",
       "    }\n",
       "\n",
       "    .dataframe thead th {\n",
       "        text-align: right;\n",
       "    }\n",
       "</style>\n",
       "<table border=\"1\" class=\"dataframe\">\n",
       "  <thead>\n",
       "    <tr style=\"text-align: right;\">\n",
       "      <th></th>\n",
       "      <th>DIRS</th>\n",
       "      <th>DIRR</th>\n",
       "      <th>RAPVIENTO2</th>\n",
       "      <th>RAPRAFAGA2</th>\n",
       "      <th>TEMP</th>\n",
       "      <th>HR</th>\n",
       "      <th>PB</th>\n",
       "      <th>PREC</th>\n",
       "      <th>RADSOL</th>\n",
       "      <th>TEMPCOMB</th>\n",
       "      <th>HUMCOMB</th>\n",
       "      <th>HUMSUBS</th>\n",
       "      <th>TEMPSUBS</th>\n",
       "    </tr>\n",
       "  </thead>\n",
       "  <tbody>\n",
       "    <tr>\n",
       "      <th>count</th>\n",
       "      <td>80.000000</td>\n",
       "      <td>80.000000</td>\n",
       "      <td>80.000000</td>\n",
       "      <td>80.000000</td>\n",
       "      <td>80.000000</td>\n",
       "      <td>80.000000</td>\n",
       "      <td>80.000000</td>\n",
       "      <td>80.0</td>\n",
       "      <td>80.000000</td>\n",
       "      <td>80.000000</td>\n",
       "      <td>80.000000</td>\n",
       "      <td>80.000000</td>\n",
       "      <td>80.000000</td>\n",
       "    </tr>\n",
       "    <tr>\n",
       "      <th>mean</th>\n",
       "      <td>205.187500</td>\n",
       "      <td>193.287500</td>\n",
       "      <td>3.632250</td>\n",
       "      <td>12.068750</td>\n",
       "      <td>9.717500</td>\n",
       "      <td>83.337500</td>\n",
       "      <td>932.468750</td>\n",
       "      <td>0.0</td>\n",
       "      <td>158.182500</td>\n",
       "      <td>12.205000</td>\n",
       "      <td>63.937500</td>\n",
       "      <td>25.675000</td>\n",
       "      <td>14.546250</td>\n",
       "    </tr>\n",
       "    <tr>\n",
       "      <th>std</th>\n",
       "      <td>93.466313</td>\n",
       "      <td>107.801293</td>\n",
       "      <td>2.198614</td>\n",
       "      <td>7.082383</td>\n",
       "      <td>4.570482</td>\n",
       "      <td>22.082093</td>\n",
       "      <td>2.689718</td>\n",
       "      <td>0.0</td>\n",
       "      <td>262.147096</td>\n",
       "      <td>9.195113</td>\n",
       "      <td>20.979401</td>\n",
       "      <td>0.882674</td>\n",
       "      <td>0.679155</td>\n",
       "    </tr>\n",
       "    <tr>\n",
       "      <th>min</th>\n",
       "      <td>23.000000</td>\n",
       "      <td>8.000000</td>\n",
       "      <td>0.540000</td>\n",
       "      <td>4.300000</td>\n",
       "      <td>2.300000</td>\n",
       "      <td>37.000000</td>\n",
       "      <td>926.700000</td>\n",
       "      <td>0.0</td>\n",
       "      <td>0.000000</td>\n",
       "      <td>2.100000</td>\n",
       "      <td>22.000000</td>\n",
       "      <td>24.000000</td>\n",
       "      <td>13.300000</td>\n",
       "    </tr>\n",
       "    <tr>\n",
       "      <th>25%</th>\n",
       "      <td>101.500000</td>\n",
       "      <td>83.000000</td>\n",
       "      <td>2.155000</td>\n",
       "      <td>6.500000</td>\n",
       "      <td>5.750000</td>\n",
       "      <td>62.500000</td>\n",
       "      <td>931.000000</td>\n",
       "      <td>0.0</td>\n",
       "      <td>0.000000</td>\n",
       "      <td>4.875000</td>\n",
       "      <td>46.000000</td>\n",
       "      <td>25.000000</td>\n",
       "      <td>14.000000</td>\n",
       "    </tr>\n",
       "    <tr>\n",
       "      <th>50%</th>\n",
       "      <td>250.000000</td>\n",
       "      <td>206.000000</td>\n",
       "      <td>2.925000</td>\n",
       "      <td>9.900000</td>\n",
       "      <td>9.700000</td>\n",
       "      <td>98.500000</td>\n",
       "      <td>932.200000</td>\n",
       "      <td>0.0</td>\n",
       "      <td>0.000000</td>\n",
       "      <td>9.600000</td>\n",
       "      <td>71.000000</td>\n",
       "      <td>26.000000</td>\n",
       "      <td>14.600000</td>\n",
       "    </tr>\n",
       "    <tr>\n",
       "      <th>75%</th>\n",
       "      <td>279.250000</td>\n",
       "      <td>307.000000</td>\n",
       "      <td>4.240000</td>\n",
       "      <td>16.600000</td>\n",
       "      <td>12.700000</td>\n",
       "      <td>100.000000</td>\n",
       "      <td>933.750000</td>\n",
       "      <td>0.0</td>\n",
       "      <td>217.450000</td>\n",
       "      <td>16.075000</td>\n",
       "      <td>81.250000</td>\n",
       "      <td>26.000000</td>\n",
       "      <td>15.100000</td>\n",
       "    </tr>\n",
       "    <tr>\n",
       "      <th>max</th>\n",
       "      <td>354.000000</td>\n",
       "      <td>351.000000</td>\n",
       "      <td>10.920000</td>\n",
       "      <td>40.000000</td>\n",
       "      <td>20.900000</td>\n",
       "      <td>100.000000</td>\n",
       "      <td>939.200000</td>\n",
       "      <td>0.0</td>\n",
       "      <td>767.300000</td>\n",
       "      <td>36.200000</td>\n",
       "      <td>91.000000</td>\n",
       "      <td>27.000000</td>\n",
       "      <td>15.700000</td>\n",
       "    </tr>\n",
       "  </tbody>\n",
       "</table>\n",
       "</div>"
      ],
      "text/plain": [
       "             DIRS        DIRR  RAPVIENTO2  RAPRAFAGA2       TEMP          HR  \\\n",
       "count   80.000000   80.000000   80.000000   80.000000  80.000000   80.000000   \n",
       "mean   205.187500  193.287500    3.632250   12.068750   9.717500   83.337500   \n",
       "std     93.466313  107.801293    2.198614    7.082383   4.570482   22.082093   \n",
       "min     23.000000    8.000000    0.540000    4.300000   2.300000   37.000000   \n",
       "25%    101.500000   83.000000    2.155000    6.500000   5.750000   62.500000   \n",
       "50%    250.000000  206.000000    2.925000    9.900000   9.700000   98.500000   \n",
       "75%    279.250000  307.000000    4.240000   16.600000  12.700000  100.000000   \n",
       "max    354.000000  351.000000   10.920000   40.000000  20.900000  100.000000   \n",
       "\n",
       "               PB  PREC      RADSOL   TEMPCOMB    HUMCOMB    HUMSUBS  \\\n",
       "count   80.000000  80.0   80.000000  80.000000  80.000000  80.000000   \n",
       "mean   932.468750   0.0  158.182500  12.205000  63.937500  25.675000   \n",
       "std      2.689718   0.0  262.147096   9.195113  20.979401   0.882674   \n",
       "min    926.700000   0.0    0.000000   2.100000  22.000000  24.000000   \n",
       "25%    931.000000   0.0    0.000000   4.875000  46.000000  25.000000   \n",
       "50%    932.200000   0.0    0.000000   9.600000  71.000000  26.000000   \n",
       "75%    933.750000   0.0  217.450000  16.075000  81.250000  26.000000   \n",
       "max    939.200000   0.0  767.300000  36.200000  91.000000  27.000000   \n",
       "\n",
       "        TEMPSUBS  \n",
       "count  80.000000  \n",
       "mean   14.546250  \n",
       "std     0.679155  \n",
       "min    13.300000  \n",
       "25%    14.000000  \n",
       "50%    14.600000  \n",
       "75%    15.100000  \n",
       "max    15.700000  "
      ]
     },
     "execution_count": 8,
     "metadata": {},
     "output_type": "execute_result"
    }
   ],
   "source": [
    "# Realiza un análisis exploratorio de datos\n",
    "df.describe()"
   ]
  },
  {
   "cell_type": "code",
   "execution_count": 9,
   "metadata": {},
   "outputs": [
    {
     "data": {
      "text/html": [
       "<div>\n",
       "<style scoped>\n",
       "    .dataframe tbody tr th:only-of-type {\n",
       "        vertical-align: middle;\n",
       "    }\n",
       "\n",
       "    .dataframe tbody tr th {\n",
       "        vertical-align: top;\n",
       "    }\n",
       "\n",
       "    .dataframe thead th {\n",
       "        text-align: right;\n",
       "    }\n",
       "</style>\n",
       "<table border=\"1\" class=\"dataframe\">\n",
       "  <thead>\n",
       "    <tr style=\"text-align: right;\">\n",
       "      <th></th>\n",
       "      <th>DIRS</th>\n",
       "      <th>DIRR</th>\n",
       "      <th>RAPVIENTO2</th>\n",
       "      <th>RAPRAFAGA2</th>\n",
       "      <th>TEMP</th>\n",
       "      <th>HR</th>\n",
       "      <th>PB</th>\n",
       "      <th>PREC</th>\n",
       "      <th>RADSOL</th>\n",
       "      <th>TEMPCOMB</th>\n",
       "      <th>HUMCOMB</th>\n",
       "      <th>HUMSUBS</th>\n",
       "      <th>TEMPSUBS</th>\n",
       "      <th>FECHA</th>\n",
       "    </tr>\n",
       "  </thead>\n",
       "  <tbody>\n",
       "  </tbody>\n",
       "</table>\n",
       "</div>"
      ],
      "text/plain": [
       "Empty DataFrame\n",
       "Columns: [DIRS, DIRR, RAPVIENTO2, RAPRAFAGA2, TEMP, HR, PB, PREC, RADSOL, TEMPCOMB, HUMCOMB, HUMSUBS, TEMPSUBS, FECHA]\n",
       "Index: []"
      ]
     },
     "execution_count": 9,
     "metadata": {},
     "output_type": "execute_result"
    }
   ],
   "source": [
    "# Selecciona los renglones con Temperatura > 24ºC y < 25ºC\n",
    "df_tmp = df[df.TEMP > 24] \n",
    "df_select = df_tmp[df_tmp.TEMP < 25]\n",
    "df_select"
   ]
  },
  {
   "cell_type": "code",
   "execution_count": 10,
   "metadata": {},
   "outputs": [
    {
     "data": {
      "text/plain": [
       "DIRS          205.18750\n",
       "DIRR          193.28750\n",
       "RAPVIENTO2      3.63225\n",
       "RAPRAFAGA2     12.06875\n",
       "TEMP            9.71750\n",
       "HR             83.33750\n",
       "PB            932.46875\n",
       "PREC            0.00000\n",
       "RADSOL        158.18250\n",
       "TEMPCOMB       12.20500\n",
       "HUMCOMB        63.93750\n",
       "HUMSUBS        25.67500\n",
       "TEMPSUBS       14.54625\n",
       "dtype: float64"
      ]
     },
     "execution_count": 10,
     "metadata": {},
     "output_type": "execute_result"
    }
   ],
   "source": [
    "# Calcula el promedio de las columnas, excepto en la FECHA (que no tendría sentido)\n",
    "df.mean()"
   ]
  },
  {
   "cell_type": "code",
   "execution_count": 11,
   "metadata": {},
   "outputs": [
    {
     "data": {
      "text/plain": [
       "9.717499999999998"
      ]
     },
     "execution_count": 11,
     "metadata": {},
     "output_type": "execute_result"
    }
   ],
   "source": [
    "# Calcula el promedio de las Temperaturas\n",
    "df.TEMP.mean()"
   ]
  },
  {
   "cell_type": "code",
   "execution_count": 12,
   "metadata": {
    "scrolled": true
   },
   "outputs": [
    {
     "data": {
      "image/png": "[encoded data removed]",
      "text/plain": [
       "<Figure size 432x288 with 1 Axes>"
      ]
     },
     "metadata": {
      "needs_background": "light"
     },
     "output_type": "display_data"
    }
   ],
   "source": [
    "# Gráfica de la rapidez de los vientos (m/s) \n",
    "plt.figure(); df.RAPVIENTO2.plot(); plt.legend(loc='best')\n",
    "plt.title(\"Variación de la Rapidez de los Vientos\")\n",
    "plt.ylabel(\"Rapidez (m/s)\")\n",
    "plt.grid(True)\n",
    "plt.show()"
   ]
  },
  {
   "cell_type": "code",
   "execution_count": 13,
   "metadata": {},
   "outputs": [
    {
     "data": {
      "text/plain": [
       "<Figure size 432x288 with 0 Axes>"
      ]
     },
     "metadata": {},
     "output_type": "display_data"
    },
    {
     "data": {
      "image/png": "[encoded data removed]",
      "text/plain": [
       "<Figure size 432x288 with 1 Axes>"
      ]
     },
     "metadata": {
      "needs_background": "light"
     },
     "output_type": "display_data"
    }
   ],
   "source": [
    "# Gráfica de Temperatura y Humedad Relativa\n",
    "df1 = df[['TEMP','HR']]\n",
    "plt.figure(); df1.plot(); plt.legend(loc='best')\n",
    "plt.title(\"Variación de la Temperatura y la Humedad Relativa\")\n",
    "plt.ylabel(\"Temp ºC /(%) HR\")\n",
    "plt.grid(True)\n",
    "plt.show()"
   ]
  },
  {
   "cell_type": "code",
   "execution_count": 14,
   "metadata": {},
   "outputs": [
    {
     "data": {
      "image/png": "[encoded data removed]",
      "text/plain": [
       "<Figure size 432x288 with 1 Axes>"
      ]
     },
     "metadata": {
      "needs_background": "light"
     },
     "output_type": "display_data"
    }
   ],
   "source": [
    "plt.plot_date(x=df.FECHA, y=df.TEMP, fmt=\"b-\")\n",
    "plt.title(\"Variación de la Temperatura\")\n",
    "plt.ylabel(\"Temp ºC\")\n",
    "plt.grid(True)\n",
    "plt.show()"
   ]
  },
  {
   "cell_type": "code",
   "execution_count": 15,
   "metadata": {},
   "outputs": [
    {
     "data": {
      "image/png": "[encoded data removed]",
      "text/plain": [
       "<Figure size 432x288 with 1 Axes>"
      ]
     },
     "metadata": {
      "needs_background": "light"
     },
     "output_type": "display_data"
    }
   ],
   "source": [
    "# Gráfica de la rapidez de los vientos (m/s) \n",
    "plt.figure(); df.RAPRAFAGA2.plot(); plt.legend(loc='best')\n",
    "plt.title(\"Variación de las Rapidez de las Ráfagas de los Vientos\")\n",
    "plt.ylabel(\"Rapidez (m/s)\")\n",
    "plt.grid(True)\n",
    "plt.show()"
   ]
  },
  {
   "cell_type": "code",
   "execution_count": 16,
   "metadata": {},
   "outputs": [
    {
     "data": {
      "image/png": "[encoded data removed]",
      "text/plain": [
       "<Figure size 432x288 with 1 Axes>"
      ]
     },
     "metadata": {
      "needs_background": "light"
     },
     "output_type": "display_data"
    }
   ],
   "source": [
    "# Gráfica de la rapidez de los vientos (m/s) \n",
    "plt.figure(); df.RADSOL.plot(); plt.legend(loc='best')\n",
    "plt.title(\"Variación de la Radiación Solar\")\n",
    "plt.grid(True)\n",
    "plt.show()"
   ]
  },
  {
   "cell_type": "code",
   "execution_count": null,
   "metadata": {},
   "outputs": [],
   "source": []
  },
  {
   "cell_type": "code",
   "execution_count": null,
   "metadata": {},
   "outputs": [],
   "source": []
  },
  {
   "cell_type": "code",
   "execution_count": null,
   "metadata": {},
   "outputs": [],
   "source": []
  },
  {
   "cell_type": "code",
   "execution_count": null,
   "metadata": {},
   "outputs": [],
   "source": []
  },
  {
   "cell_type": "code",
   "execution_count": null,
   "metadata": {},
   "outputs": [],
   "source": []
  }
 ],
 "metadata": {
  "kernelspec": {
   "display_name": "Python 3",
   "language": "python",
   "name": "python3"
  },
  "language_info": {
   "codemirror_mode": {
    "name": "ipython",
    "version": 3
   },
   "file_extension": ".py",
   "mimetype": "text/x-python",
   "name": "python",
   "nbconvert_exporter": "python",
   "pygments_lexer": "ipython3",
   "version": "3.7.1"
  }
 },
 "nbformat": 4,
 "nbformat_minor": 2
}
